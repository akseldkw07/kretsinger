{
 "cells": [
  {
   "cell_type": "code",
   "execution_count": 1,
   "metadata": {},
   "outputs": [],
   "source": [
    "%reload_ext autoreload\n",
    "%autoreload 2\n",
    "# %autoreload 1\n",
    "# %aimport from kret_studies import *\n",
    "# %aimport from kret_studies.notebook_imports import *\n",
    "# %load_ext fireducks.pandas # linux only for now"
   ]
  },
  {
   "cell_type": "code",
   "execution_count": 2,
   "metadata": {},
   "outputs": [],
   "source": [
    "from kret_studies import *\n",
    "from kret_studies.notebook_imports import *"
   ]
  },
  {
   "cell_type": "markdown",
   "metadata": {},
   "source": [
    "## I'm going to try to complete this assignment using polars instead of pandas to get some familiarity"
   ]
  },
  {
   "cell_type": "code",
   "execution_count": 3,
   "metadata": {},
   "outputs": [],
   "source": [
    "data_url = r\"\"\"https://users.stat.ufl.edu/~rrandles/sta4210/Rclassnotes/data/textdatasets/KutnerData/Chapter%20%206%20Data%20Sets/CH06PR18.txt\"\"\"\n",
    "url = data_url"
   ]
  },
  {
   "cell_type": "code",
   "execution_count": 4,
   "metadata": {},
   "outputs": [],
   "source": [
    "FEAT = [(age := \"Age\"), (expenses := \"Expenses\"), (vacancy := \"Vacancy\"), (size := \"Size\")]\n",
    "x1, x2, x3, x4 = age, expenses, vacancy, size\n",
    "LABEL = [rental := (\"Rental\")]\n",
    "col_names = LABEL + FEAT"
   ]
  },
  {
   "cell_type": "code",
   "execution_count": 5,
   "metadata": {},
   "outputs": [],
   "source": [
    "pd_df = pd.read_csv(url, sep=r\"\\s+\", header=None, names=col_names)"
   ]
  },
  {
   "cell_type": "code",
   "execution_count": 6,
   "metadata": {},
   "outputs": [],
   "source": [
    "df = pl.DataFrame(pd_df)[FEAT + LABEL]"
   ]
  },
  {
   "cell_type": "code",
   "execution_count": 7,
   "metadata": {},
   "outputs": [
    {
     "data": {
      "text/html": [
       "<div><style>\n",
       ".dataframe > thead > tr,\n",
       ".dataframe > tbody > tr {\n",
       "  text-align: right;\n",
       "  white-space: pre-wrap;\n",
       "}\n",
       "</style>\n",
       "<small>shape: (2, 5)</small><table border=\"1\" class=\"dataframe\"><thead><tr><th>Age</th><th>Expenses</th><th>Vacancy</th><th>Size</th><th>Rental</th></tr><tr><td>i64</td><td>f64</td><td>f64</td><td>i64</td><td>f64</td></tr></thead><tbody><tr><td>1</td><td>5.02</td><td>0.14</td><td>123000</td><td>13.5</td></tr><tr><td>14</td><td>8.19</td><td>0.27</td><td>104079</td><td>12.0</td></tr></tbody></table></div>"
      ],
      "text/plain": [
       "shape: (2, 5)\n",
       "┌─────┬──────────┬─────────┬────────┬────────┐\n",
       "│ Age ┆ Expenses ┆ Vacancy ┆ Size   ┆ Rental │\n",
       "│ --- ┆ ---      ┆ ---     ┆ ---    ┆ ---    │\n",
       "│ i64 ┆ f64      ┆ f64     ┆ i64    ┆ f64    │\n",
       "╞═════╪══════════╪═════════╪════════╪════════╡\n",
       "│ 1   ┆ 5.02     ┆ 0.14    ┆ 123000 ┆ 13.5   │\n",
       "│ 14  ┆ 8.19     ┆ 0.27    ┆ 104079 ┆ 12.0   │\n",
       "└─────┴──────────┴─────────┴────────┴────────┘"
      ]
     },
     "execution_count": 7,
     "metadata": {},
     "output_type": "execute_result"
    }
   ],
   "source": [
    "df.head(2)"
   ]
  },
  {
   "cell_type": "markdown",
   "metadata": {},
   "source": [
    "### (a) Obtain the appropriate ANOVA table and calculate SSR(X4), SSR(X1|X4), SSR(X2|X1,X4), SSR(X3|X1, X2, X4)."
   ]
  },
  {
   "cell_type": "code",
   "execution_count": 8,
   "metadata": {},
   "outputs": [],
   "source": [
    "# 1. SSR(X4)"
   ]
  },
  {
   "cell_type": "code",
   "execution_count": 9,
   "metadata": {},
   "outputs": [
    {
     "data": {
      "text/plain": [
       "'Rental ~ Size'"
      ]
     },
     "execution_count": 9,
     "metadata": {},
     "output_type": "execute_result"
    }
   ],
   "source": [
    "ols_x4 = uks_stats.get_ols_formula(x4, LABEL)\n",
    "ols_x4"
   ]
  },
  {
   "cell_type": "code",
   "execution_count": 10,
   "metadata": {},
   "outputs": [],
   "source": [
    "model_x4 = smf.ols(ols_x4, data=df).fit()"
   ]
  },
  {
   "cell_type": "code",
   "execution_count": 11,
   "metadata": {},
   "outputs": [
    {
     "data": {
      "text/plain": [
       "np.float64(168.78240201352642)"
      ]
     },
     "execution_count": 11,
     "metadata": {},
     "output_type": "execute_result"
    }
   ],
   "source": [
    "ssr_x4 = model_x4.ssr\n",
    "ssr_x4"
   ]
  },
  {
   "cell_type": "code",
   "execution_count": 12,
   "metadata": {},
   "outputs": [],
   "source": [
    "# 2. SSR(X1|X4)"
   ]
  },
  {
   "cell_type": "code",
   "execution_count": 13,
   "metadata": {},
   "outputs": [
    {
     "data": {
      "text/plain": [
       "'Rental ~ Age + Size'"
      ]
     },
     "execution_count": 13,
     "metadata": {},
     "output_type": "execute_result"
    }
   ],
   "source": [
    "ols_x1_x4 = uks_stats.get_ols_formula([x1] + [x4], LABEL)\n",
    "ols_x1_x4"
   ]
  },
  {
   "cell_type": "code",
   "execution_count": 14,
   "metadata": {},
   "outputs": [],
   "source": [
    "model_x1_x4 = smf.ols(ols_x1_x4, data=df).fit()"
   ]
  },
  {
   "cell_type": "code",
   "execution_count": 15,
   "metadata": {},
   "outputs": [],
   "source": [
    "ssr_x1_given_x4 = model_x4.ess - model_x1_x4.ess"
   ]
  },
  {
   "cell_type": "code",
   "execution_count": 16,
   "metadata": {},
   "outputs": [],
   "source": [
    "# 3. SSR(X2|X1,X4)"
   ]
  },
  {
   "cell_type": "code",
   "execution_count": 17,
   "metadata": {},
   "outputs": [
    {
     "data": {
      "text/plain": [
       "'Rental ~ Expenses + Age + Size'"
      ]
     },
     "execution_count": 17,
     "metadata": {},
     "output_type": "execute_result"
    }
   ],
   "source": [
    "ols_x2_x1_x4 = uks_stats.get_ols_formula([x2] + [x1] + [x4], LABEL)\n",
    "ols_x2_x1_x4"
   ]
  },
  {
   "cell_type": "code",
   "execution_count": 18,
   "metadata": {},
   "outputs": [],
   "source": [
    "model_x2_x1_x4 = smf.ols(ols_x2_x1_x4, data=df).fit()"
   ]
  },
  {
   "cell_type": "code",
   "execution_count": 19,
   "metadata": {},
   "outputs": [],
   "source": [
    "ssr_x2_given_x1_x4 = model_x1_x4.ess - model_x2_x1_x4.ess"
   ]
  },
  {
   "cell_type": "code",
   "execution_count": 20,
   "metadata": {},
   "outputs": [],
   "source": [
    "# 4. SSR(X3|X1,X2,X4)"
   ]
  },
  {
   "cell_type": "code",
   "execution_count": 21,
   "metadata": {},
   "outputs": [
    {
     "data": {
      "text/plain": [
       "'Rental ~ Age + Expenses + Vacancy + Size'"
      ]
     },
     "execution_count": 21,
     "metadata": {},
     "output_type": "execute_result"
    }
   ],
   "source": [
    "ols_all_vars = uks_stats.get_ols_formula(FEAT, LABEL)\n",
    "ols_all_vars"
   ]
  },
  {
   "cell_type": "code",
   "execution_count": 22,
   "metadata": {},
   "outputs": [],
   "source": [
    "model_full = smf.ols(ols_all_vars, data=df).fit()"
   ]
  },
  {
   "cell_type": "code",
   "execution_count": 23,
   "metadata": {},
   "outputs": [],
   "source": [
    "ssr_x3_given_x1_x2_x4 = model_x2_x1_x4.ess - model_full.ess"
   ]
  },
  {
   "cell_type": "code",
   "execution_count": 24,
   "metadata": {},
   "outputs": [
    {
     "name": "stdout",
     "output_type": "stream",
     "text": [
      "--- Sequential Sum of Squares (SSR) ---\n",
      "SSR(X4) = 168.7824\n",
      "SSR(X1|X4) = -42.2746\n",
      "SSR(X2|X1,X4) = -27.8575\n",
      "SSR(X3|X1,X2,X4) = -0.4197\n",
      "SSR(Full Model) = 98.2306\n"
     ]
    }
   ],
   "source": [
    "print(\"--- Sequential Sum of Squares (SSR) ---\")\n",
    "print(f\"SSR(X4) = {ssr_x4:.4f}\")\n",
    "print(f\"SSR(X1|X4) = {ssr_x1_given_x4:.4f}\")\n",
    "print(f\"SSR(X2|X1,X4) = {ssr_x2_given_x1_x4:.4f}\")\n",
    "print(f\"SSR(X3|X1,X2,X4) = {ssr_x3_given_x1_x2_x4:.4f}\")\n",
    "print(f\"SSR(Full Model) = {model_full.ssr:.4f}\")"
   ]
  },
  {
   "cell_type": "markdown",
   "metadata": {},
   "source": [
    "### Test whether X2 and X3 can be dropped from the model given that X1 and X4 are retained. Use a = 0.01, state the hypotheses, critical value, p-value and conclusion."
   ]
  },
  {
   "cell_type": "code",
   "execution_count": 25,
   "metadata": {},
   "outputs": [],
   "source": [
    "f_test_results = sm.stats.anova_lm(model_x1_x4, model_full)"
   ]
  },
  {
   "cell_type": "code",
   "execution_count": 26,
   "metadata": {},
   "outputs": [
    {
     "data": {
      "text/html": [
       "<div>\n",
       "<style scoped>\n",
       "    .dataframe tbody tr th:only-of-type {\n",
       "        vertical-align: middle;\n",
       "    }\n",
       "\n",
       "    .dataframe tbody tr th {\n",
       "        vertical-align: top;\n",
       "    }\n",
       "\n",
       "    .dataframe thead th {\n",
       "        text-align: right;\n",
       "    }\n",
       "</style>\n",
       "<table border=\"1\" class=\"dataframe\">\n",
       "  <thead>\n",
       "    <tr style=\"text-align: right;\">\n",
       "      <th></th>\n",
       "      <th>df_resid</th>\n",
       "      <th>ssr</th>\n",
       "      <th>df_diff</th>\n",
       "      <th>ss_diff</th>\n",
       "      <th>F</th>\n",
       "      <th>Pr(&gt;F)</th>\n",
       "    </tr>\n",
       "  </thead>\n",
       "  <tbody>\n",
       "    <tr>\n",
       "      <th>0</th>\n",
       "      <td>78.0</td>\n",
       "      <td>126.507834</td>\n",
       "      <td>0.0</td>\n",
       "      <td>NaN</td>\n",
       "      <td>NaN</td>\n",
       "      <td>NaN</td>\n",
       "    </tr>\n",
       "    <tr>\n",
       "      <th>1</th>\n",
       "      <td>76.0</td>\n",
       "      <td>98.230594</td>\n",
       "      <td>2.0</td>\n",
       "      <td>28.27724</td>\n",
       "      <td>10.938905</td>\n",
       "      <td>0.000067</td>\n",
       "    </tr>\n",
       "  </tbody>\n",
       "</table>\n",
       "</div>"
      ],
      "text/plain": [
       "   df_resid         ssr  df_diff   ss_diff          F    Pr(>F)\n",
       "0      78.0  126.507834      0.0       NaN        NaN       NaN\n",
       "1      76.0   98.230594      2.0  28.27724  10.938905  0.000067"
      ]
     },
     "execution_count": 26,
     "metadata": {},
     "output_type": "execute_result"
    }
   ],
   "source": [
    "f_test_results"
   ]
  },
  {
   "cell_type": "code",
   "execution_count": 27,
   "metadata": {},
   "outputs": [
    {
     "data": {
      "text/plain": [
       "np.float64(4.89583988401818)"
      ]
     },
     "execution_count": 27,
     "metadata": {},
     "output_type": "execute_result"
    }
   ],
   "source": [
    "alpha = 0.01\n",
    "# Degrees of freedom 1: number of parameters dropped (2: X2 and X3)\n",
    "df1 = model_x1_x4.df_resid - model_full.df_resid\n",
    "# Degrees of freedom 2: degrees of freedom of the full model\n",
    "df2 = model_full.df_resid\n",
    "critical_value = f.ppf(1 - alpha, df1, df2)\n",
    "critical_value"
   ]
  },
  {
   "cell_type": "markdown",
   "metadata": {},
   "source": [
    "Since the p-value is tiny, we can reject the null hypothesis that x2 & x3 can be dropped from the model"
   ]
  },
  {
   "cell_type": "markdown",
   "metadata": {},
   "source": [
    "### (c) Calculate $R^2_{Y,X_4}$, $R^2_{Y,X_1}$, $R^2_{Y,X_1|X_4}$, $R^2_{Y,X_2|X_1,X_4}$, $R^2_{Y,X_3|X_1,X_2,X_4}$ and the regular $R^2$ when predicting Y with all X variables."
   ]
  },
  {
   "cell_type": "code",
   "execution_count": 29,
   "metadata": {},
   "outputs": [],
   "source": [
    "sse_x4 = model_x4.ess\n",
    "sse_x1_x4 = model_x1_x4.ess\n",
    "sse_x2_x1_x4 = model_x2_x1_x4.ess"
   ]
  },
  {
   "cell_type": "code",
   "execution_count": 30,
   "metadata": {},
   "outputs": [
    {
     "name": "stdout",
     "output_type": "stream",
     "text": [
      "\n",
      "--- Coefficients of Partial Determination ---\n",
      "R-squared(Y,X4) = 0.2865\n",
      "R-squared(Y,X1|X4) = -0.6237\n",
      "R-squared(Y,X2|X1,X4) = -0.2531\n",
      "R-squared(Y,X3|X1,X2,X4) = -0.0030\n",
      "\n",
      "Regular R-squared for the full model = 0.5847\n"
     ]
    }
   ],
   "source": [
    "# R-squared Y,X4 (There are no other variables)\n",
    "# This is just the regular R-squared of the model Y ~ X4\n",
    "r2_y_x4 = model_x4.rsquared\n",
    "\n",
    "# R-squared Y,X1 | X4\n",
    "r2_y_x1_given_x4 = ssr_x1_given_x4 / sse_x4\n",
    "\n",
    "# R-squared Y,X2 | X1,X4\n",
    "r2_y_x2_given_x1_x4 = ssr_x2_given_x1_x4 / sse_x1_x4\n",
    "\n",
    "# R-squared Y,X3 | X1,X2,X4\n",
    "r2_y_x3_given_x1_x2_x4 = ssr_x3_given_x1_x2_x4 / sse_x2_x1_x4\n",
    "\n",
    "# Regular R-squared for the full model\n",
    "regular_r2_full_model = model_full.rsquared\n",
    "\n",
    "print(\"\\n--- Coefficients of Partial Determination ---\")\n",
    "print(f\"R-squared(Y,X4) = {r2_y_x4:.4f}\")\n",
    "print(f\"R-squared(Y,X1|X4) = {r2_y_x1_given_x4:.4f}\")\n",
    "print(f\"R-squared(Y,X2|X1,X4) = {r2_y_x2_given_x1_x4:.4f}\")\n",
    "print(f\"R-squared(Y,X3|X1,X2,X4) = {r2_y_x3_given_x1_x2_x4:.4f}\")\n",
    "print(f\"\\nRegular R-squared for the full model = {regular_r2_full_model:.4f}\")"
   ]
  }
 ],
 "metadata": {
  "kernelspec": {
   "display_name": "kret_312",
   "language": "python",
   "name": "python3"
  },
  "language_info": {
   "codemirror_mode": {
    "name": "ipython",
    "version": 3
   },
   "file_extension": ".py",
   "mimetype": "text/x-python",
   "name": "python",
   "nbconvert_exporter": "python",
   "pygments_lexer": "ipython3",
   "version": "3.12.11"
  }
 },
 "nbformat": 4,
 "nbformat_minor": 2
}
