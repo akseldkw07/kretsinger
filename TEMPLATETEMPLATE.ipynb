{
 "cells": [
  {
   "cell_type": "code",
   "execution_count": 1,
   "metadata": {},
   "outputs": [],
   "source": [
    "%reload_ext autoreload\n",
    "%autoreload 2\n",
    "# %autoreload 1\n",
    "# %aimport from kret_studies import *\n",
    "# %aimport from kret_studies.notebook_imports import *\n",
    "# %load_ext fireducks.pandas # linux only for now"
   ]
  },
  {
   "cell_type": "code",
   "execution_count": 2,
   "metadata": {},
   "outputs": [],
   "source": [
    "from kret_studies import *\n",
    "from kret_studies.notebook_imports import *"
   ]
  },
  {
   "cell_type": "code",
   "execution_count": null,
   "metadata": {},
   "outputs": [],
   "source": [
    "get_granularity_format_string = uks_floats.get_precision"
   ]
  },
  {
   "cell_type": "code",
   "execution_count": 5,
   "metadata": {},
   "outputs": [
    {
     "name": "stdout",
     "output_type": "stream",
     "text": [
      "--- Test Cases for get_granularity_format_string ---\n",
      "Data: [-0.5  0.9  0.1 -0.2], Format: .2f\n",
      "Data: [-0.001   0.005   0.003  -0.0008], Format: .4f\n",
      "Data: [-0.15  0.25  0.05], Format: .2f\n",
      "Data: [1200000 8530000 3000000 5100000], Format: .1fM\n",
      "Data: [10000000 90000000 50000000 25000000], Format: .0fM\n",
      "Data: [1234567 1235100 1234800], Format: .3fM\n",
      "Data: [1200 8500 5000 3100], Format: .1fK\n",
      "Data: [1230 1250 1240], Format: .3fK\n",
      "Data: [ 1 95 50 12], Format: .0f\n",
      "Data: [1.2 5.8 3.5 4.1], Format: .1f\n",
      "Data: [], Format: \n",
      "Data: [0 0 0], Format: .0f\n",
      "Data: [-0.05  0.02  0.01 -0.03], Format: .3f\n",
      "Data: [-1.0e-04  2.0e-04  5.0e-05 -1.5e-04], Format: .4f\n",
      "Data: [100 100 100], Format: .3f\n",
      "Data: [1.2345 1.2345 1.2345], Format: .3f\n",
      "Data: [1234567 1234567], Format: .3fM\n"
     ]
    }
   ],
   "source": [
    "# --- Test Cases ---\n",
    "print(\"--- Test Cases for get_granularity_format_string ---\")\n",
    "\n",
    "# Test 1: Small numbers around zero, expected \".2f\"\n",
    "data1 = np.array([-0.5, 0.9, 0.1, -0.2])\n",
    "print(f\"Data: {data1}, Format: {get_granularity_format_string(data1)}\")  # Expected: .2f\n",
    "\n",
    "# Test 1.1: Very small numbers, expected \".3f\" or \".4f\"\n",
    "data1_1 = np.array([-0.001, 0.005, 0.003, -0.0008])\n",
    "print(\n",
    "    f\"Data: {data1_1}, Format: {get_granularity_format_string(data1_1)}\"\n",
    ")  # Expected: .4f (or .3f depending on threshold)\n",
    "\n",
    "# Test 1.2: Slightly larger decimals, expected \".2f\"\n",
    "data1_2 = np.array([-0.15, 0.25, 0.05])\n",
    "print(f\"Data: {data1_2}, Format: {get_granularity_format_string(data1_2)}\")  # Expected: .2f\n",
    "\n",
    "# Test 2: Millions scale, expected \".1fM\"\n",
    "data2 = np.array([1_200_000, 8_530_000, 3_000_000, 5_100_000])\n",
    "print(f\"Data: {data2}, Format: {get_granularity_format_string(data2)}\")  # Expected: .1fM\n",
    "\n",
    "# Test 3: Large spread in Millions, no decimal, expected \".0fM\"\n",
    "data3 = np.array([10_000_000, 90_000_000, 50_000_000, 25_000_000])\n",
    "print(f\"Data: {data3}, Format: {get_granularity_format_string(data3)}\")  # Expected: .0fM\n",
    "\n",
    "# Test 4: Very tight spread in Millions, expected \".3fM\" or \".2fM\"\n",
    "data4 = np.array([1_234_567, 1_235_100, 1_234_800])\n",
    "print(f\"Data: {data4}, Format: {get_granularity_format_string(data4)}\")  # Expected: .3fM\n",
    "\n",
    "# Test 5: Thousands scale, expected \".0fK\" or \".1fK\"\n",
    "data5 = np.array([1_200, 8_500, 5_000, 3_100])\n",
    "print(f\"Data: {data5}, Format: {get_granularity_format_string(data5)}\")  # Expected: .0fK\n",
    "\n",
    "# Test 5.1: Thousands scale, tighter, expected \".1fK\"\n",
    "data5_1 = np.array([1_230, 1_250, 1_240])\n",
    "print(f\"Data: {data5_1}, Format: {get_granularity_format_string(data5_1)}\")  # Expected: .1fK\n",
    "\n",
    "# Test 6: Small integers/decimals, no scaling\n",
    "data6 = np.array([1, 95, 50, 12])\n",
    "print(f\"Data: {data6}, Format: {get_granularity_format_string(data6)}\")  # Expected: .0f\n",
    "\n",
    "data6_1 = np.array([1.2, 5.8, 3.5, 4.1])\n",
    "print(f\"Data: {data6_1}, Format: {get_granularity_format_string(data6_1)}\")  # Expected: .1f\n",
    "\n",
    "# Test 7: Empty data\n",
    "data7 = np.array([])\n",
    "print(f\"Data: {data7}, Format: {get_granularity_format_string(data7)}\")  # Expected: \"\"\n",
    "\n",
    "# Test 7.1: All zeros\n",
    "data7_1 = np.array([0, 0, 0])\n",
    "print(f\"Data: {data7_1}, Format: {get_granularity_format_string(data7_1)}\")  # Expected: .0f\n",
    "\n",
    "# Test 8: Mixed positive/negative, very small magnitude\n",
    "data8 = np.array([-0.05, 0.02, 0.01, -0.03])\n",
    "print(f\"Data: {data8}, Format: {get_granularity_format_string(data8)}\")  # Expected: .2f\n",
    "\n",
    "# Test 8.1: Extremely small numbers\n",
    "data8_1 = np.array([-0.0001, 0.0002, 0.00005, -0.00015])\n",
    "print(f\"Data: {data8_1}, Format: {get_granularity_format_string(data8_1)}\")  # Expected: .4f\n",
    "\n",
    "# Test 9: Data with only one unique value (p10=p90)\n",
    "data9 = np.array([100, 100, 100])\n",
    "print(f\"Data: {data9}, Format: {get_granularity_format_string(data9)}\")  # Expected: .0f\n",
    "\n",
    "data9_1 = np.array([1.2345, 1.2345, 1.2345])\n",
    "print(f\"Data: {data9_1}, Format: {get_granularity_format_string(data9_1)}\")  # Expected: .4f\n",
    "\n",
    "data9_2 = np.array([1_234_567, 1_234_567])\n",
    "print(f\"Data: {data9_2}, Format: {get_granularity_format_string(data9_2)}\")  # Expected: .3fM"
   ]
  },
  {
   "cell_type": "code",
   "execution_count": null,
   "metadata": {},
   "outputs": [],
   "source": []
  }
 ],
 "metadata": {
  "kernelspec": {
   "display_name": "kret_312",
   "language": "python",
   "name": "python3"
  },
  "language_info": {
   "codemirror_mode": {
    "name": "ipython",
    "version": 3
   },
   "file_extension": ".py",
   "mimetype": "text/x-python",
   "name": "python",
   "nbconvert_exporter": "python",
   "pygments_lexer": "ipython3",
   "version": "3.12.8"
  }
 },
 "nbformat": 4,
 "nbformat_minor": 2
}
