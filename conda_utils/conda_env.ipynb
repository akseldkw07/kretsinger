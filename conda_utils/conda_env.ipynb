{
 "cells": [
  {
   "cell_type": "code",
   "execution_count": 1,
   "metadata": {},
   "outputs": [],
   "source": [
    "%reload_ext autoreload\n",
    "%autoreload 2\n",
    "# %autoreload 1\n",
    "# %aimport from kret_studies import *\n",
    "# %aimport from kret_studies.notebook_imports import *\n",
    "# %load_ext fireducks.pandas # linux only for now"
   ]
  },
  {
   "cell_type": "code",
   "execution_count": 2,
   "metadata": {},
   "outputs": [],
   "source": [
    "from kret_studies import *\n",
    "from kret_studies.notebook_imports import *"
   ]
  },
  {
   "cell_type": "code",
   "execution_count": 3,
   "metadata": {},
   "outputs": [],
   "source": [
    "from conda_utils.conda_packages import CondaUtils"
   ]
  },
  {
   "cell_type": "code",
   "execution_count": 4,
   "metadata": {},
   "outputs": [
    {
     "name": "stdout",
     "output_type": "stream",
     "text": [
      "mm create -n kret_312 python=3.12 'numpy>=2.3.0' 'pandas>=2.3.0' 'polars>=1.31.0' 'scikit-learn>=1.7.0' black bokeh catboost cvxpy dash dash-bootstrap-components dash-core-components dash-html-components drawdata fastai flake8 graphviz ipywidgets jupyter jupyterlab keras lightgbm matplotlib networkx nltk notebook panel plotly praw pre-commit pulp pyarrow pydot pydotplus pygraphviz python-dotenv pytorch scipy seaborn spacy statsmodels sympy tensorflow textblob transformers vaderSentiment xgboost yfinance --yes\n"
     ]
    }
   ],
   "source": [
    "CondaUtils.conda_packages_to_str(version='3.12')"
   ]
  },
  {
   "cell_type": "code",
   "execution_count": null,
   "metadata": {},
   "outputs": [],
   "source": []
  }
 ],
 "metadata": {
  "kernelspec": {
   "display_name": "kret_312",
   "language": "python",
   "name": "python3"
  },
  "language_info": {
   "codemirror_mode": {
    "name": "ipython",
    "version": 3
   },
   "file_extension": ".py",
   "mimetype": "text/x-python",
   "name": "python",
   "nbconvert_exporter": "python",
   "pygments_lexer": "ipython3",
   "version": "3.12.11"
  }
 },
 "nbformat": 4,
 "nbformat_minor": 2
}
