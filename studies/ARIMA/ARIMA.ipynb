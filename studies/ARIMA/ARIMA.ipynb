{
 "cells": [
  {
   "cell_type": "code",
   "execution_count": 1,
   "metadata": {},
   "outputs": [],
   "source": [
    "%reload_ext autoreload\n",
    "%autoreload 2\n",
    "# %autoreload 1\n",
    "# %aimport from kret_studies import *\n",
    "# %aimport from kret_studies.notebook_imports import *\n",
    "# %load_ext fireducks.pandas # linux only for now"
   ]
  },
  {
   "cell_type": "code",
   "execution_count": 2,
   "metadata": {},
   "outputs": [],
   "source": [
    "from kret_studies import *\n",
    "from kret_studies.notebook.notebook_imports import *"
   ]
  },
  {
   "cell_type": "code",
   "execution_count": 3,
   "metadata": {},
   "outputs": [],
   "source": [
    "# # Define the ticker symbol\n",
    "# ticker = \"AAPL\"\n",
    "\n",
    "# # Fetch data\n",
    "# stock_data = kret_yf.download(ticker, start=\"2015-01-01\", end=\"2023-12-31\")\n",
    "\n",
    "# # Display the first few rows\n",
    "# stock_data.head()"
   ]
  },
  {
   "cell_type": "code",
   "execution_count": 13,
   "metadata": {},
   "outputs": [
    {
     "data": {
      "text/plain": [
       "'As of my last update in October 2023, the current year is **2023**. For the most up-to-date information, please check a reliable device or calendar.'"
      ]
     },
     "execution_count": 13,
     "metadata": {},
     "output_type": "execute_result"
    }
   ],
   "source": [
    "kret_gpt.query_llm(\"What year is it\")"
   ]
  },
  {
   "cell_type": "code",
   "execution_count": 14,
   "metadata": {},
   "outputs": [
    {
     "name": "stdout",
     "output_type": "stream",
     "text": [
      "from requests import Session\n",
      "class Download_TypedDict(t.TypedDict, total=False):\n",
      "    tickers: str | list[str]\n",
      "    start: str | None\n",
      "    end: str | None\n",
      "    actions: bool\n",
      "    threads: bool | int\n",
      "    ignore_tz: bool | None\n",
      "    group_by: str\n",
      "    auto_adjust: bool | None\n",
      "    back_adjust: t.Any\n",
      "    repair: bool\n",
      "    keepna: bool\n",
      "    progress: t.Any\n",
      "    period: t.Literal['1d', '5d', '1mo', '3mo', '6mo', '1y', '2y', '5y', '10y', 'ytd', 'max']\n",
      "    interval: t.Literal['1m', '2m', '5m', '15m', '30m', '60m', '90m', '1h', '1d', '5d', '1wk', '1mo', '3mo']\n",
      "    prepost: bool\n",
      "    proxy: t.Any\n",
      "    rounding: bool\n",
      "    timeout: None | float\n",
      "    session: None | Session\n",
      "    multi_level_index: bool\n"
     ]
    },
    {
     "data": {
      "text/plain": [
       "mappingproxy({'tickers': <Parameter \"tickers\">,\n",
       "              'start': <Parameter \"start=None\">,\n",
       "              'end': <Parameter \"end=None\">,\n",
       "              'actions': <Parameter \"actions=False\">,\n",
       "              'threads': <Parameter \"threads=True\">,\n",
       "              'ignore_tz': <Parameter \"ignore_tz=None\">,\n",
       "              'group_by': <Parameter \"group_by='column'\">,\n",
       "              'auto_adjust': <Parameter \"auto_adjust=None\">,\n",
       "              'back_adjust': <Parameter \"back_adjust=False\">,\n",
       "              'repair': <Parameter \"repair=False\">,\n",
       "              'keepna': <Parameter \"keepna=False\">,\n",
       "              'progress': <Parameter \"progress=True\">,\n",
       "              'period': <Parameter \"period='max'\">,\n",
       "              'interval': <Parameter \"interval='1d'\">,\n",
       "              'prepost': <Parameter \"prepost=False\">,\n",
       "              'proxy': <Parameter \"proxy=<object object at 0x31ca7fc10>\">,\n",
       "              'rounding': <Parameter \"rounding=False\">,\n",
       "              'timeout': <Parameter \"timeout=10\">,\n",
       "              'session': <Parameter \"session=None\">,\n",
       "              'multi_level_index': <Parameter \"multi_level_index=True\">})"
      ]
     },
     "execution_count": 14,
     "metadata": {},
     "output_type": "execute_result"
    }
   ],
   "source": [
    "uks_types.func_to_typed_dict(yf.download)"
   ]
  },
  {
   "cell_type": "code",
   "execution_count": 16,
   "metadata": {},
   "outputs": [
    {
     "data": {
      "text/plain": [
       "\"{'tickers': str | list, 'start': str | None, 'end': str | None, 'actions': bool, 'threads': bool | int, 'ignore_tz': bool | None, 'group_by': str, 'auto_adjust': bool | None, 'back_adjust': Any, 'repair': bool, 'keepna': bool, 'progress': Any, 'period': Literal['1d', '5d', '1mo', '3mo', '6mo', '1y', '2y', '5y', '10y', 'ytd', 'max'], 'interval': Literal['1m', '2m', '5m', '15m', '30m', '60m', '90m', '1h', '1d', '5d', '1wk', '1mo', '3mo'], 'prepost': bool, 'proxy': Any, 'rounding': bool, 'timeout': None | float, 'session': None | Session, 'multi_level_index': bool}\""
      ]
     },
     "execution_count": 16,
     "metadata": {},
     "output_type": "execute_result"
    }
   ],
   "source": [
    "uks_types.func_to_typed_hint_llm(yf.download)"
   ]
  },
  {
   "cell_type": "code",
   "execution_count": null,
   "metadata": {},
   "outputs": [],
   "source": []
  }
 ],
 "metadata": {
  "kernelspec": {
   "display_name": "Python 3",
   "language": "python",
   "name": "python3"
  },
  "language_info": {
   "codemirror_mode": {
    "name": "ipython",
    "version": 3
   },
   "file_extension": ".py",
   "mimetype": "text/x-python",
   "name": "python",
   "nbconvert_exporter": "python",
   "pygments_lexer": "ipython3",
   "version": "3.12.11"
  }
 },
 "nbformat": 4,
 "nbformat_minor": 2
}
