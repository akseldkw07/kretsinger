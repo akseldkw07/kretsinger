{
 "cells": [
  {
   "cell_type": "code",
   "execution_count": 1,
   "metadata": {},
   "outputs": [],
   "source": [
    "%reload_ext autoreload\n",
    "%autoreload 2\n",
    "# %autoreload 1\n",
    "# %aimport from kret_studies import *\n",
    "# %aimport from kret_studies.notebook_imports import *\n",
    "# %load_ext fireducks.pandas # linux only for now"
   ]
  },
  {
   "cell_type": "code",
   "execution_count": 2,
   "metadata": {},
   "outputs": [
    {
     "name": "stdout",
     "output_type": "stream",
     "text": [
      "Loaded environment variables from /Users/Akseldkw/coding/kretsinger/.env.\n",
      "/Users/Akseldkw/coding/kretsinger/data/nb_log.log\n"
     ]
    }
   ],
   "source": [
    "from kret_studies import *\n",
    "from kret_studies.notebook.notebook_imports import *\n",
    "from kret_studies.notebook.nb_setup import *\n",
    "\n",
    "logger = get_notebook_logger()"
   ]
  },
  {
   "cell_type": "code",
   "execution_count": 23,
   "metadata": {},
   "outputs": [
    {
     "name": "stderr",
     "output_type": "stream",
     "text": [
      "[2025-07-07 00:15:40] [WARNING] {   'auto_adjust': True,\n",
      "    'end': '2025-07-06',\n",
      "    'group_by': 'ticker',\n",
      "    'interval': '1h',\n",
      "    'keepna': True,\n",
      "    'multi_level_index': True,\n",
      "    'prepost': True,\n",
      "    'repair': True,\n",
      "    'start': '2025-06-26',\n",
      "    'tickers': ['AAPL', 'NVDA']}\n",
      "[*********************100%***********************]  2 of 2 completed\n"
     ]
    }
   ],
   "source": [
    "# # Define the ticker symbol\n",
    "ticker = [\"AAPL\", \"NVDA\"]\n",
    "\n",
    "# # Fetch data\n",
    "stock_data = kret_yf.download(ticker, period=\"10d\", interval=\"1h\")\n",
    "\n",
    "# # Display the first few rows\n",
    "# stock_data.head()"
   ]
  },
  {
   "cell_type": "code",
   "execution_count": 24,
   "metadata": {},
   "outputs": [
    {
     "data": {
      "text/html": [
       "<div>\n",
       "<style scoped>\n",
       "    .dataframe tbody tr th:only-of-type {\n",
       "        vertical-align: middle;\n",
       "    }\n",
       "\n",
       "    .dataframe tbody tr th {\n",
       "        vertical-align: top;\n",
       "    }\n",
       "\n",
       "    .dataframe thead tr th {\n",
       "        text-align: left;\n",
       "    }\n",
       "\n",
       "    .dataframe thead tr:last-of-type th {\n",
       "        text-align: right;\n",
       "    }\n",
       "</style>\n",
       "<table border=\"1\" class=\"dataframe\">\n",
       "  <thead>\n",
       "    <tr>\n",
       "      <th>Ticker</th>\n",
       "      <th colspan=\"6\" halign=\"left\">AAPL</th>\n",
       "      <th colspan=\"6\" halign=\"left\">NVDA</th>\n",
       "    </tr>\n",
       "    <tr>\n",
       "      <th>Price</th>\n",
       "      <th>Open</th>\n",
       "      <th>High</th>\n",
       "      <th>Low</th>\n",
       "      <th>Close</th>\n",
       "      <th>Volume</th>\n",
       "      <th>Repaired?</th>\n",
       "      <th>Open</th>\n",
       "      <th>High</th>\n",
       "      <th>Low</th>\n",
       "      <th>Close</th>\n",
       "      <th>Volume</th>\n",
       "      <th>Repaired?</th>\n",
       "    </tr>\n",
       "    <tr>\n",
       "      <th>Datetime</th>\n",
       "      <th></th>\n",
       "      <th></th>\n",
       "      <th></th>\n",
       "      <th></th>\n",
       "      <th></th>\n",
       "      <th></th>\n",
       "      <th></th>\n",
       "      <th></th>\n",
       "      <th></th>\n",
       "      <th></th>\n",
       "      <th></th>\n",
       "      <th></th>\n",
       "    </tr>\n",
       "  </thead>\n",
       "  <tbody>\n",
       "    <tr>\n",
       "      <th>2025-06-26 08:00:00+00:00</th>\n",
       "      <td>202.03</td>\n",
       "      <td>202.6900</td>\n",
       "      <td>202.0200</td>\n",
       "      <td>202.55</td>\n",
       "      <td>0</td>\n",
       "      <td>True</td>\n",
       "      <td>155.57</td>\n",
       "      <td>155.95</td>\n",
       "      <td>155.47</td>\n",
       "      <td>155.91</td>\n",
       "      <td>0</td>\n",
       "      <td>True</td>\n",
       "    </tr>\n",
       "    <tr>\n",
       "      <th>2025-06-26 09:00:00+00:00</th>\n",
       "      <td>202.50</td>\n",
       "      <td>202.7500</td>\n",
       "      <td>202.2500</td>\n",
       "      <td>202.25</td>\n",
       "      <td>0</td>\n",
       "      <td>True</td>\n",
       "      <td>155.92</td>\n",
       "      <td>156.27</td>\n",
       "      <td>155.72</td>\n",
       "      <td>156.20</td>\n",
       "      <td>0</td>\n",
       "      <td>True</td>\n",
       "    </tr>\n",
       "    <tr>\n",
       "      <th>2025-06-26 10:00:00+00:00</th>\n",
       "      <td>202.26</td>\n",
       "      <td>202.4400</td>\n",
       "      <td>200.4100</td>\n",
       "      <td>201.56</td>\n",
       "      <td>0</td>\n",
       "      <td>True</td>\n",
       "      <td>156.19</td>\n",
       "      <td>156.22</td>\n",
       "      <td>155.80</td>\n",
       "      <td>156.12</td>\n",
       "      <td>0</td>\n",
       "      <td>True</td>\n",
       "    </tr>\n",
       "    <tr>\n",
       "      <th>2025-06-26 11:00:00+00:00</th>\n",
       "      <td>201.61</td>\n",
       "      <td>201.7400</td>\n",
       "      <td>201.0300</td>\n",
       "      <td>201.37</td>\n",
       "      <td>0</td>\n",
       "      <td>True</td>\n",
       "      <td>156.12</td>\n",
       "      <td>156.40</td>\n",
       "      <td>155.58</td>\n",
       "      <td>156.28</td>\n",
       "      <td>0</td>\n",
       "      <td>True</td>\n",
       "    </tr>\n",
       "    <tr>\n",
       "      <th>2025-06-26 12:00:00+00:00</th>\n",
       "      <td>201.39</td>\n",
       "      <td>202.7452</td>\n",
       "      <td>200.4011</td>\n",
       "      <td>201.36</td>\n",
       "      <td>0</td>\n",
       "      <td>True</td>\n",
       "      <td>156.28</td>\n",
       "      <td>157.00</td>\n",
       "      <td>153.74</td>\n",
       "      <td>156.70</td>\n",
       "      <td>0</td>\n",
       "      <td>True</td>\n",
       "    </tr>\n",
       "  </tbody>\n",
       "</table>\n",
       "</div>"
      ],
      "text/plain": [
       "Ticker                       AAPL                                     \\\n",
       "Price                        Open      High       Low   Close Volume   \n",
       "Datetime                                                               \n",
       "2025-06-26 08:00:00+00:00  202.03  202.6900  202.0200  202.55      0   \n",
       "2025-06-26 09:00:00+00:00  202.50  202.7500  202.2500  202.25      0   \n",
       "2025-06-26 10:00:00+00:00  202.26  202.4400  200.4100  201.56      0   \n",
       "2025-06-26 11:00:00+00:00  201.61  201.7400  201.0300  201.37      0   \n",
       "2025-06-26 12:00:00+00:00  201.39  202.7452  200.4011  201.36      0   \n",
       "\n",
       "Ticker                                 NVDA                                 \\\n",
       "Price                     Repaired?    Open    High     Low   Close Volume   \n",
       "Datetime                                                                     \n",
       "2025-06-26 08:00:00+00:00      True  155.57  155.95  155.47  155.91      0   \n",
       "2025-06-26 09:00:00+00:00      True  155.92  156.27  155.72  156.20      0   \n",
       "2025-06-26 10:00:00+00:00      True  156.19  156.22  155.80  156.12      0   \n",
       "2025-06-26 11:00:00+00:00      True  156.12  156.40  155.58  156.28      0   \n",
       "2025-06-26 12:00:00+00:00      True  156.28  157.00  153.74  156.70      0   \n",
       "\n",
       "Ticker                               \n",
       "Price                     Repaired?  \n",
       "Datetime                             \n",
       "2025-06-26 08:00:00+00:00      True  \n",
       "2025-06-26 09:00:00+00:00      True  \n",
       "2025-06-26 10:00:00+00:00      True  \n",
       "2025-06-26 11:00:00+00:00      True  \n",
       "2025-06-26 12:00:00+00:00      True  "
      ]
     },
     "execution_count": 24,
     "metadata": {},
     "output_type": "execute_result"
    }
   ],
   "source": [
    "stock_data.head(5)"
   ]
  },
  {
   "cell_type": "code",
   "execution_count": 25,
   "metadata": {},
   "outputs": [
    {
     "data": {
      "text/plain": [
       "MultiIndex([('AAPL',      'Open'),\n",
       "            ('AAPL',      'High'),\n",
       "            ('AAPL',       'Low'),\n",
       "            ('AAPL',     'Close'),\n",
       "            ('AAPL',    'Volume'),\n",
       "            ('AAPL', 'Repaired?'),\n",
       "            ('NVDA',      'Open'),\n",
       "            ('NVDA',      'High'),\n",
       "            ('NVDA',       'Low'),\n",
       "            ('NVDA',     'Close'),\n",
       "            ('NVDA',    'Volume'),\n",
       "            ('NVDA', 'Repaired?')],\n",
       "           names=['Ticker', 'Price'])"
      ]
     },
     "execution_count": 25,
     "metadata": {},
     "output_type": "execute_result"
    }
   ],
   "source": [
    "stock_data.columns"
   ]
  },
  {
   "cell_type": "code",
   "execution_count": null,
   "metadata": {},
   "outputs": [
    {
     "data": {
      "text/plain": [
       "DatetimeIndex(['2025-06-26 08:00:00+00:00', '2025-06-26 09:00:00+00:00',\n",
       "               '2025-06-26 10:00:00+00:00', '2025-06-26 11:00:00+00:00',\n",
       "               '2025-06-26 12:00:00+00:00', '2025-06-26 13:00:00+00:00',\n",
       "               '2025-06-26 13:30:00+00:00', '2025-06-26 14:30:00+00:00',\n",
       "               '2025-06-26 15:30:00+00:00', '2025-06-26 16:30:00+00:00',\n",
       "               '2025-06-26 17:30:00+00:00', '2025-06-26 18:30:00+00:00',\n",
       "               '2025-06-26 19:30:00+00:00', '2025-06-26 20:00:00+00:00',\n",
       "               '2025-06-26 21:00:00+00:00', '2025-06-26 22:00:00+00:00',\n",
       "               '2025-06-26 23:00:00+00:00', '2025-06-27 08:00:00+00:00',\n",
       "               '2025-06-27 09:00:00+00:00', '2025-06-27 10:00:00+00:00',\n",
       "               '2025-06-27 11:00:00+00:00', '2025-06-27 12:00:00+00:00',\n",
       "               '2025-06-27 13:00:00+00:00', '2025-06-27 13:30:00+00:00',\n",
       "               '2025-06-27 14:30:00+00:00', '2025-06-27 15:30:00+00:00',\n",
       "               '2025-06-27 16:30:00+00:00', '2025-06-27 17:30:00+00:00',\n",
       "               '2025-06-27 18:30:00+00:00', '2025-06-27 19:30:00+00:00',\n",
       "               '2025-06-27 20:00:00+00:00', '2025-06-27 21:00:00+00:00',\n",
       "               '2025-06-27 22:00:00+00:00', '2025-06-27 23:00:00+00:00',\n",
       "               '2025-06-30 08:00:00+00:00', '2025-06-30 09:00:00+00:00',\n",
       "               '2025-06-30 10:00:00+00:00', '2025-06-30 11:00:00+00:00',\n",
       "               '2025-06-30 12:00:00+00:00', '2025-06-30 13:00:00+00:00',\n",
       "               '2025-06-30 13:30:00+00:00', '2025-06-30 14:30:00+00:00',\n",
       "               '2025-06-30 15:30:00+00:00', '2025-06-30 16:30:00+00:00',\n",
       "               '2025-06-30 17:30:00+00:00', '2025-06-30 18:30:00+00:00',\n",
       "               '2025-06-30 19:30:00+00:00', '2025-06-30 20:00:00+00:00',\n",
       "               '2025-06-30 21:00:00+00:00', '2025-06-30 22:00:00+00:00',\n",
       "               '2025-06-30 23:00:00+00:00', '2025-07-01 08:00:00+00:00',\n",
       "               '2025-07-01 09:00:00+00:00', '2025-07-01 10:00:00+00:00',\n",
       "               '2025-07-01 11:00:00+00:00', '2025-07-01 12:00:00+00:00',\n",
       "               '2025-07-01 13:00:00+00:00', '2025-07-01 13:30:00+00:00',\n",
       "               '2025-07-01 14:30:00+00:00', '2025-07-01 15:30:00+00:00',\n",
       "               '2025-07-01 16:30:00+00:00', '2025-07-01 17:30:00+00:00',\n",
       "               '2025-07-01 18:30:00+00:00', '2025-07-01 19:30:00+00:00',\n",
       "               '2025-07-01 20:00:00+00:00', '2025-07-01 21:00:00+00:00',\n",
       "               '2025-07-01 22:00:00+00:00', '2025-07-01 23:00:00+00:00',\n",
       "               '2025-07-02 08:00:00+00:00', '2025-07-02 09:00:00+00:00',\n",
       "               '2025-07-02 10:00:00+00:00', '2025-07-02 11:00:00+00:00',\n",
       "               '2025-07-02 12:00:00+00:00', '2025-07-02 13:00:00+00:00',\n",
       "               '2025-07-02 13:30:00+00:00', '2025-07-02 14:30:00+00:00',\n",
       "               '2025-07-02 15:30:00+00:00', '2025-07-02 16:30:00+00:00',\n",
       "               '2025-07-02 17:30:00+00:00', '2025-07-02 18:30:00+00:00',\n",
       "               '2025-07-02 19:30:00+00:00', '2025-07-02 20:00:00+00:00',\n",
       "               '2025-07-02 21:00:00+00:00', '2025-07-02 22:00:00+00:00',\n",
       "               '2025-07-02 23:00:00+00:00', '2025-07-03 08:00:00+00:00',\n",
       "               '2025-07-03 09:00:00+00:00', '2025-07-03 10:00:00+00:00',\n",
       "               '2025-07-03 11:00:00+00:00', '2025-07-03 12:00:00+00:00',\n",
       "               '2025-07-03 13:00:00+00:00', '2025-07-03 13:30:00+00:00',\n",
       "               '2025-07-03 14:30:00+00:00', '2025-07-03 15:30:00+00:00',\n",
       "               '2025-07-03 16:30:00+00:00', '2025-07-03 17:00:00+00:00',\n",
       "               '2025-07-03 18:00:00+00:00', '2025-07-03 19:00:00+00:00',\n",
       "               '2025-07-03 20:00:00+00:00'],\n",
       "              dtype='datetime64[ns, UTC]', name='Datetime', freq=None)"
      ]
     },
     "execution_count": 26,
     "metadata": {},
     "output_type": "execute_result"
    }
   ],
   "source": [
    "(stock_data.index)"
   ]
  },
  {
   "cell_type": "code",
   "execution_count": null,
   "metadata": {},
   "outputs": [],
   "source": []
  }
 ],
 "metadata": {
  "kernelspec": {
   "display_name": "Python 3",
   "language": "python",
   "name": "python3"
  },
  "language_info": {
   "codemirror_mode": {
    "name": "ipython",
    "version": 3
   },
   "file_extension": ".py",
   "mimetype": "text/x-python",
   "name": "python",
   "nbconvert_exporter": "python",
   "pygments_lexer": "ipython3",
   "version": "3.12.11"
  }
 },
 "nbformat": 4,
 "nbformat_minor": 2
}
